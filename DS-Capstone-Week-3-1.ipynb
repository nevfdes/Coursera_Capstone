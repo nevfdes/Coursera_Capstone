{
    "nbformat_minor": 1, 
    "cells": [
        {
            "source": "## Capstone Assignment - Neighborhoods in Toronto ##", 
            "cell_type": "markdown", 
            "metadata": {}
        }, 
        {
            "execution_count": 1, 
            "cell_type": "code", 
            "metadata": {}, 
            "outputs": [], 
            "source": "import pandas as pd\nimport numpy as np\n\nimport requests"
        }, 
        {
            "execution_count": 2, 
            "cell_type": "code", 
            "metadata": {}, 
            "outputs": [
                {
                    "output_type": "stream", 
                    "name": "stdout", 
                    "text": "Data Fetched !\n"
                }
            ], 
            "source": "# http request to fetch the wiki page with data \nr = requests.get(\"https://en.wikipedia.org/wiki/List_of_postal_codes_of_Canada:_M\")\n\nif (r.status_code == 200):\n    print(\"Data Fetched !\")\n    \n    # create a dataframe from the http response \n    df = pd.read_html(r.content)\n\n    headers = df[0].iloc[0]\n    df = pd.DataFrame(df[0].values[1:], columns=headers)\nelse:\n    print(\"Error !\")"
        }, 
        {
            "source": "*Note - Using pandas inbuilt read_html instead of beautifulsoup lib. It uses the same bs4 + html5lib for parsing*", 
            "cell_type": "markdown", 
            "metadata": {}
        }, 
        {
            "execution_count": 4, 
            "cell_type": "code", 
            "metadata": {}, 
            "outputs": [
                {
                    "execution_count": 4, 
                    "metadata": {}, 
                    "data": {
                        "text/html": "<div>\n<style scoped>\n    .dataframe tbody tr th:only-of-type {\n        vertical-align: middle;\n    }\n\n    .dataframe tbody tr th {\n        vertical-align: top;\n    }\n\n    .dataframe thead th {\n        text-align: right;\n    }\n</style>\n<table border=\"1\" class=\"dataframe\">\n  <thead>\n    <tr style=\"text-align: right;\">\n      <th></th>\n      <th>Postcode</th>\n      <th>Neighbourhood</th>\n      <th>Borough</th>\n    </tr>\n  </thead>\n  <tbody>\n    <tr>\n      <th>0</th>\n      <td>M1B</td>\n      <td>Rouge, Malvern</td>\n      <td>Scarborough</td>\n    </tr>\n    <tr>\n      <th>1</th>\n      <td>M1C</td>\n      <td>Highland Creek, Rouge Hill, Port Union</td>\n      <td>Scarborough</td>\n    </tr>\n    <tr>\n      <th>2</th>\n      <td>M1E</td>\n      <td>Guildwood, Morningside, West Hill</td>\n      <td>Scarborough</td>\n    </tr>\n    <tr>\n      <th>3</th>\n      <td>M1G</td>\n      <td>Woburn</td>\n      <td>Scarborough</td>\n    </tr>\n    <tr>\n      <th>4</th>\n      <td>M1H</td>\n      <td>Cedarbrae</td>\n      <td>Scarborough</td>\n    </tr>\n  </tbody>\n</table>\n</div>", 
                        "text/plain": "  Postcode                           Neighbourhood      Borough\n0      M1B                          Rouge, Malvern  Scarborough\n1      M1C  Highland Creek, Rouge Hill, Port Union  Scarborough\n2      M1E       Guildwood, Morningside, West Hill  Scarborough\n3      M1G                                  Woburn  Scarborough\n4      M1H                               Cedarbrae  Scarborough"
                    }, 
                    "output_type": "execute_result"
                }
            ], 
            "source": "# data cleanup \ndf.drop(df.index[df['Borough'] == 'Not assigned'], inplace = True)\ndf = df.groupby(['Postcode'], as_index=False).agg({'Neighbourhood' : lambda x: ', '.join(x), 'Borough': 'first'})\n\n## if neighbourhood not assigned, set same as borough.\ndf['Neighbourhood'] = np.where(df['Neighbourhood'] == 'Not assigned', df['Borough'], df['Neighbourhood'])\n\ndf.head()"
        }, 
        {
            "execution_count": 5, 
            "cell_type": "code", 
            "metadata": {}, 
            "outputs": [
                {
                    "execution_count": 5, 
                    "metadata": {}, 
                    "data": {
                        "text/plain": "(103, 3)"
                    }, 
                    "output_type": "execute_result"
                }
            ], 
            "source": "df.shape"
        }, 
        {
            "execution_count": null, 
            "cell_type": "code", 
            "metadata": {}, 
            "outputs": [], 
            "source": ""
        }
    ], 
    "metadata": {
        "kernelspec": {
            "display_name": "Python 3.5", 
            "name": "python3", 
            "language": "python"
        }, 
        "language_info": {
            "mimetype": "text/x-python", 
            "nbconvert_exporter": "python", 
            "version": "3.5.5", 
            "name": "python", 
            "file_extension": ".py", 
            "pygments_lexer": "ipython3", 
            "codemirror_mode": {
                "version": 3, 
                "name": "ipython"
            }
        }
    }, 
    "nbformat": 4
}