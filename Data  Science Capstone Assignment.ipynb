{
    "nbformat_minor": 1, 
    "cells": [
        {
            "source": "# Data Science - Capstone Project #", 
            "cell_type": "markdown", 
            "metadata": {
                "collapsed": true
            }
        }, 
        {
            "source": "### The Battle of Neighborhoods ###", 
            "cell_type": "markdown", 
            "metadata": {}
        }, 
        {
            "source": "#### Problem Statement : In a city of your choice, if someone is looking to open a restaurant, where would you recommend that they open it?\n\nFollowing the Brexit announcement, many businesses are shifting their base to Dublin City, and are lookin As part of my project, I want to provide recommendation of neighbourhoods to businesses looking to shift to Dublin.", 
            "cell_type": "markdown", 
            "metadata": {}
        }, 
        {
            "execution_count": null, 
            "cell_type": "code", 
            "metadata": {}, 
            "outputs": [], 
            "source": ""
        }, 
        {
            "execution_count": null, 
            "cell_type": "code", 
            "metadata": {}, 
            "outputs": [], 
            "source": ""
        }
    ], 
    "metadata": {
        "kernelspec": {
            "display_name": "Python 3.5", 
            "name": "python3", 
            "language": "python"
        }, 
        "language_info": {
            "mimetype": "text/x-python", 
            "nbconvert_exporter": "python", 
            "version": "3.5.5", 
            "name": "python", 
            "file_extension": ".py", 
            "pygments_lexer": "ipython3", 
            "codemirror_mode": {
                "version": 3, 
                "name": "ipython"
            }
        }
    }, 
    "nbformat": 4
}