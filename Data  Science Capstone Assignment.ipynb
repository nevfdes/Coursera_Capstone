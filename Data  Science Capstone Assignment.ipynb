{
    "nbformat_minor": 1, 
    "cells": [
        {
            "source": "# Data Science - Capstone Project #", 
            "cell_type": "markdown", 
            "metadata": {
                "collapsed": true
            }
        }, 
        {
            "source": "### The Battle of Neighborhoods ###", 
            "cell_type": "markdown", 
            "metadata": {}
        }, 
        {
            "source": "### Problem Statement : In a city of your choice, if someone is looking to open a restaurant, where would you recommend that they open it?\n\nFollowing the Brexit announcement, many businesses are shifting their base to Dublin City, and are looking for suitable areas. As part of my project, I want to provide the recommendation of neighbourhoods to businesses looking to shift to Dublin.\n\nAs the Brexit saga continues to twist and turn, more and more businesses are having to make decisions about what their operations will look like when the UK eventually leaves the European Union. \n\nIreland has a reputation as one of the most open and globally connected countries in the world.\n\nAs far back as 2013, Forbes rated Ireland as the best country in Europe for doing business. This accolade was further backed-up by some of the biggest companies in the world \u2013 Apple, Google, Facebook, Twitter and Amazon \u2013 setting up bases there.\n\nThe capital has fantastic transport connections to other key countries \u2013 both inside and outside the European Union. Thanks to newly-launched services to Boston and Miami, Dublin Airport is now the fifth largest airport in Europe for transatlantic connectivity.\n\nThis is only set to grow. New long-haul destinations are planned to be launched in the coming years, connecting the city to Hong Kong and Montreal, for example. Furthermore, a new runway is scheduled to be completed in 2021, opening up connectivity to Southeast Asia, South America and Southern Africa\n\n\n\nsource - https://usandco.com/why-financial-services-are-moving-to-dublin-post-brexit/ ", 
            "cell_type": "markdown", 
            "metadata": {}
        }, 
        {
            "execution_count": null, 
            "cell_type": "code", 
            "metadata": {}, 
            "outputs": [], 
            "source": ""
        }, 
        {
            "source": "### Data Requirement :\nAlong with the Foursquare Location Data, I would be using the housing data published by Dublin City Council and Irish Government.\n", 
            "cell_type": "markdown", 
            "metadata": {}
        }, 
        {
            "execution_count": 15, 
            "cell_type": "code", 
            "metadata": {}, 
            "outputs": [], 
            "source": "# The code was removed by Watson Studio for sharing."
        }, 
        {
            "source": "https://data.gov.ie/dataset?theme=Housing <br/>\n<b>Ireland's open data portal</b> ", 
            "cell_type": "markdown", 
            "metadata": {}
        }, 
        {
            "execution_count": 17, 
            "cell_type": "code", 
            "metadata": {}, 
            "outputs": [
                {
                    "execution_count": 17, 
                    "metadata": {}, 
                    "data": {
                        "text/html": "<div>\n<style scoped>\n    .dataframe tbody tr th:only-of-type {\n        vertical-align: middle;\n    }\n\n    .dataframe tbody tr th {\n        vertical-align: top;\n    }\n\n    .dataframe thead th {\n        text-align: right;\n    }\n</style>\n<table border=\"1\" class=\"dataframe\">\n  <thead>\n    <tr style=\"text-align: right;\">\n      <th></th>\n      <th>features</th>\n      <th>type</th>\n    </tr>\n  </thead>\n  <tbody>\n    <tr>\n      <th>0</th>\n      <td>{'properties': {'DevelopmentAddress': 'Ballysh...</td>\n      <td>FeatureCollection</td>\n    </tr>\n    <tr>\n      <th>1</th>\n      <td>{'properties': {'DevelopmentAddress': '172 St ...</td>\n      <td>FeatureCollection</td>\n    </tr>\n    <tr>\n      <th>2</th>\n      <td>{'properties': {'DevelopmentAddress': 'Spahill...</td>\n      <td>FeatureCollection</td>\n    </tr>\n    <tr>\n      <th>3</th>\n      <td>{'properties': {'DevelopmentAddress': 'Graigue...</td>\n      <td>FeatureCollection</td>\n    </tr>\n    <tr>\n      <th>4</th>\n      <td>{'properties': {'DevelopmentAddress': 'Dublin ...</td>\n      <td>FeatureCollection</td>\n    </tr>\n  </tbody>\n</table>\n</div>", 
                        "text/plain": "                                            features               type\n0  {'properties': {'DevelopmentAddress': 'Ballysh...  FeatureCollection\n1  {'properties': {'DevelopmentAddress': '172 St ...  FeatureCollection\n2  {'properties': {'DevelopmentAddress': 'Spahill...  FeatureCollection\n3  {'properties': {'DevelopmentAddress': 'Graigue...  FeatureCollection\n4  {'properties': {'DevelopmentAddress': 'Dublin ...  FeatureCollection"
                    }, 
                    "output_type": "execute_result"
                }
            ], 
            "source": "import json \n\ndf = pd.read_json(geojson_data)\ndf.head()"
        }, 
        {
            "source": "https://data.smartdublin.ie/ <br/>\n<b>Dublinked: Open Data for the Dublin Region</b>", 
            "cell_type": "markdown", 
            "metadata": {}
        }, 
        {
            "execution_count": null, 
            "cell_type": "code", 
            "metadata": {}, 
            "outputs": [], 
            "source": ""
        }
    ], 
    "metadata": {
        "kernelspec": {
            "display_name": "Python 3.5", 
            "name": "python3", 
            "language": "python"
        }, 
        "language_info": {
            "mimetype": "text/x-python", 
            "nbconvert_exporter": "python", 
            "version": "3.5.5", 
            "name": "python", 
            "file_extension": ".py", 
            "pygments_lexer": "ipython3", 
            "codemirror_mode": {
                "version": 3, 
                "name": "ipython"
            }
        }
    }, 
    "nbformat": 4
}